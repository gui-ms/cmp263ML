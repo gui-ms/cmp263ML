{
  "nbformat": 4,
  "nbformat_minor": 0,
  "metadata": {
    "colab": {
      "provenance": [],
      "include_colab_link": true
    },
    "kernelspec": {
      "name": "python3",
      "display_name": "Python 3"
    },
    "language_info": {
      "name": "python"
    }
  },
  "cells": [
    {
      "cell_type": "markdown",
      "metadata": {
        "id": "view-in-github",
        "colab_type": "text"
      },
      "source": [
        "<a href=\"https://colab.research.google.com/github/gui-ms/cmp263ML/blob/main/EDA.ipynb\" target=\"_parent\"><img src=\"https://colab.research.google.com/assets/colab-badge.svg\" alt=\"Open In Colab\"/></a>"
      ]
    },
    {
      "cell_type": "markdown",
      "source": [
        "# Importando Libs:"
      ],
      "metadata": {
        "id": "Z5JCmkxCOx0b"
      }
    },
    {
      "cell_type": "code",
      "source": [
        "import pandas as pd\n",
        "import numpy as np\n",
        "import matplotlib.pyplot as plt\n",
        "import seaborn as sns\n",
        "from scipy import stats\n",
        "import warnings\n",
        "warnings.filterwarnings('ignore')"
      ],
      "metadata": {
        "id": "VKqfxeTaOxQu"
      },
      "execution_count": null,
      "outputs": []
    },
    {
      "cell_type": "markdown",
      "source": [
        "# Funções:"
      ],
      "metadata": {
        "id": "ovzHLR3iOw3H"
      }
    },
    {
      "cell_type": "code",
      "execution_count": null,
      "metadata": {
        "id": "rOs87s-_YPRb"
      },
      "outputs": [],
      "source": [
        "# Configurações de visualização\n",
        "plt.style.use('seaborn-v0_8')\n",
        "sns.set_palette(\"husl\")\n",
        "plt.rcParams['figure.figsize'] = (12, 8)\n",
        "\n",
        "def load_data(csv_path):\n",
        "    \"\"\"Carrega o dataset Parquet\"\"\"\n",
        "    print(\"📊 Carregando dados...\")\n",
        "    df = pd.read_csv(csv_path)\n",
        "    print(f\"✅ Dataset carregado: {df.shape[0]} linhas × {df.shape[1]} colunas\")\n",
        "    return df\n",
        "\n",
        "def basic_info(df):\n",
        "    \"\"\"Informações básicas do dataset\"\"\"\n",
        "    print(\"\\n\" + \"=\"*50)\n",
        "    print(\"📋 INFORMAÇÕES BÁSICAS\")\n",
        "    print(\"=\"*50)\n",
        "\n",
        "    print(f\"• Dimensões: {df.shape[0]} linhas × {df.shape[1]} colunas\")\n",
        "    print(f\"• Memória utilizada: {df.memory_usage(deep=True).sum() / 1024**2:.2f} MB\")\n",
        "\n",
        "    print(\"\\n📊 Tipos de dados:\")\n",
        "    print(df.dtypes.value_counts())\n",
        "\n",
        "    print(\"\\n🔍 Primeiras 5 linhas:\")\n",
        "    print(df.head())\n",
        "\n",
        "    print(\"\\n⏩ Últimas 5 linhas:\")\n",
        "    print(df.tail())\n",
        "\n",
        "def missing_analysis(df):\n",
        "    \"\"\"Análise de valores missing\"\"\"\n",
        "    print(\"\\n\" + \"=\"*50)\n",
        "    print(\"🔍 ANÁLISE DE VALORES MISSING\")\n",
        "    print(\"=\"*50)\n",
        "\n",
        "    missing = df.isnull().sum()\n",
        "    missing_percent = (missing / len(df)) * 100\n",
        "\n",
        "    missing_df = pd.DataFrame({\n",
        "        'Coluna': missing.index,\n",
        "        'Valores Missing': missing.values,\n",
        "        'Percentual (%)': missing_percent.values\n",
        "    }).sort_values('Valores Missing', ascending=False)\n",
        "\n",
        "    print(missing_df[missing_df['Valores Missing'] > 0])\n",
        "\n",
        "    if missing.sum() == 0:\n",
        "        print(\"✅ Nenhum valor missing encontrado!\")\n",
        "    else:\n",
        "        # Visualização\n",
        "        plt.figure(figsize=(10, 6))\n",
        "        missing_df[missing_df['Valores Missing'] > 0].plot(\n",
        "            x='Coluna', y='Percentual (%)', kind='bar',\n",
        "            title='Percentual de Valores Missing por Coluna'\n",
        "        )\n",
        "        plt.xticks(rotation=45)\n",
        "        plt.tight_layout()\n",
        "        plt.show()\n",
        "\n",
        "def infinites_analysis(df):\n",
        "    \"\"\"Análise de valores infinitos\"\"\"\n",
        "    print(\"\\n\" + \"=\"*50)\n",
        "    print(\"🔍 ANÁLISE DE VALORES INFINITOS\")\n",
        "    print(\"=\"*50)\n",
        "\n",
        "    # Selecionar apenas colunas numéricas\n",
        "    num_cols = df.select_dtypes(include=[np.number]).columns\n",
        "\n",
        "    # Criar uma máscara booleana para detectar valores infinitos\n",
        "    mask_inf = np.isinf(df[num_cols])\n",
        "\n",
        "    # Filtrar linhas que possuem pelo menos um valor infinito\n",
        "    df_inf = df[mask_inf.any(axis=1)]\n",
        "\n",
        "    # ---- Parte 1: visualizar dados infinitos ----\n",
        "    print(f\"Número de linhas com infinito: {df_inf.shape[0]}\")\n",
        "    print(f\"Colunas com infinito: {list(mask_inf.any()[mask_inf.any()].index)}\")\n",
        "\n",
        "    #Taxa de valores inf\n",
        "    df_inf[[ 'Flow Bytes/s', 'Flow Packets/s', 'Label']][df_inf.Label==1].count()/df_inf[[ 'Flow Packets/s', 'Label']].count()\n",
        "\n",
        "    # ---- Parte 2: tratar os infinitos substituindo pelo maior valor finito da coluna ----\n",
        "    for col in num_cols:\n",
        "        if np.isinf(df[col]).any():\n",
        "            max_val = df.loc[~np.isinf(df[col]), col].max()\n",
        "            df[col] = df[col].replace([np.inf, -np.inf], max_val)\n",
        "            print(f\" Coluna '{col}' corrigida: ∞ substituído por {max_val}\")\n",
        "\n",
        "    # Agora df está limpo\n",
        "    print(\"\\n Dataset final corrigido!\")\n",
        "\n",
        "def nan_analysis(df):\n",
        "    \"\"\"Análise de valores nulos\"\"\"\n",
        "    print(\"\\n\" + \"=\"*50)\n",
        "    print(\"🔍 ANÁLISE DE VALORES NULOS\")\n",
        "    print(\"=\"*50)\n",
        "\n",
        "    # Taxa de valores ausentes por label com valor 1\n",
        "    print('Taxa de valores ausentes:',df['Label'][df['Flow Bytes/s'].isna()][df['Label']==1].count()/df['Label'][df['Flow Bytes/s'].isna()].count())\n",
        "    #tratamento\n",
        "    print('substituição:',df['Flow Bytes/s'].max())\n",
        "    df['Flow Bytes/s'] = df['Flow Bytes/s'].replace([np.nan], df['Flow Bytes/s'].max())\n",
        "    print('Valores ausentes finais:',df['Label'][df['Flow Bytes/s'].isna()])\n",
        "\n",
        "\n",
        "def num_cols_to_categorical(df):\n",
        "    \"\"\"Transforma colunas numéricas em categóricas\"\"\"\n",
        "    for coluna in ['Src IP','Src Port', 'Dst IP', 'Dst Port', 'Protocol', 'Timestamp']:\n",
        "      df[coluna] = df[coluna].astype('category')"
      ]
    },
    {
      "cell_type": "markdown",
      "source": [
        "# Função main:"
      ],
      "metadata": {
        "id": "mxVLIYcUOrvh"
      }
    },
    {
      "cell_type": "code",
      "source": [
        "def main():\n",
        "    \"\"\"Função principal\"\"\"\n",
        "    # Caminho para seu arquivo csv\n",
        "    csv_path = \"./dataset_completo.csv\"  # Altere para o caminho correto\n",
        "\n",
        "    try:\n",
        "        # Carregar dados\n",
        "        df = load_data(csv_path)\n",
        "\n",
        "\n",
        "    except FileNotFoundError:\n",
        "        print(f\"❌ Arquivo {csv_path} não encontrado!\")\n",
        "        print(\"Verifique o caminho do arquivo.\")\n",
        "    except Exception as e:\n",
        "        print(f\"❌ Erro durante a análise: {e}\")\n",
        "\n",
        "if __name__ == \"__main__\":\n",
        "    main()"
      ],
      "metadata": {
        "colab": {
          "base_uri": "https://localhost:8080/"
        },
        "id": "GwsLAkdNOSMo",
        "outputId": "77fca8ea-e2ec-4d39-dfb2-fb1810421d1c"
      },
      "execution_count": null,
      "outputs": [
        {
          "output_type": "stream",
          "name": "stdout",
          "text": [
            "📊 Carregando dados...\n",
            "❌ Arquivo ./dataset_completo.csv não encontrado!\n",
            "Verifique o caminho do arquivo.\n"
          ]
        }
      ]
    },
    {
      "cell_type": "markdown",
      "source": [
        "# Montar drive (opcional):"
      ],
      "metadata": {
        "id": "yreZzVB9dHSH"
      }
    },
    {
      "cell_type": "code",
      "source": [
        "from google.colab import drive\n",
        "drive.mount('/content/drive')"
      ],
      "metadata": {
        "colab": {
          "base_uri": "https://localhost:8080/",
          "height": 311
        },
        "id": "q1Ev0B9WEhri",
        "outputId": "ca0efd17-1c4b-4baa-d742-d0d3017931be"
      },
      "execution_count": null,
      "outputs": [
        {
          "output_type": "error",
          "ename": "MessageError",
          "evalue": "Error: credential propagation was unsuccessful",
          "traceback": [
            "\u001b[0;31m---------------------------------------------------------------------------\u001b[0m",
            "\u001b[0;31mMessageError\u001b[0m                              Traceback (most recent call last)",
            "\u001b[0;32m/tmp/ipython-input-1408506528.py\u001b[0m in \u001b[0;36m<cell line: 0>\u001b[0;34m()\u001b[0m\n\u001b[1;32m      1\u001b[0m \u001b[0;32mfrom\u001b[0m \u001b[0mgoogle\u001b[0m\u001b[0;34m.\u001b[0m\u001b[0mcolab\u001b[0m \u001b[0;32mimport\u001b[0m \u001b[0mdrive\u001b[0m\u001b[0;34m\u001b[0m\u001b[0;34m\u001b[0m\u001b[0m\n\u001b[0;32m----> 2\u001b[0;31m \u001b[0mdrive\u001b[0m\u001b[0;34m.\u001b[0m\u001b[0mmount\u001b[0m\u001b[0;34m(\u001b[0m\u001b[0;34m'/content/drive'\u001b[0m\u001b[0;34m)\u001b[0m\u001b[0;34m\u001b[0m\u001b[0;34m\u001b[0m\u001b[0m\n\u001b[0m",
            "\u001b[0;32m/usr/local/lib/python3.12/dist-packages/google/colab/drive.py\u001b[0m in \u001b[0;36mmount\u001b[0;34m(mountpoint, force_remount, timeout_ms, readonly)\u001b[0m\n\u001b[1;32m     95\u001b[0m \u001b[0;32mdef\u001b[0m \u001b[0mmount\u001b[0m\u001b[0;34m(\u001b[0m\u001b[0mmountpoint\u001b[0m\u001b[0;34m,\u001b[0m \u001b[0mforce_remount\u001b[0m\u001b[0;34m=\u001b[0m\u001b[0;32mFalse\u001b[0m\u001b[0;34m,\u001b[0m \u001b[0mtimeout_ms\u001b[0m\u001b[0;34m=\u001b[0m\u001b[0;36m120000\u001b[0m\u001b[0;34m,\u001b[0m \u001b[0mreadonly\u001b[0m\u001b[0;34m=\u001b[0m\u001b[0;32mFalse\u001b[0m\u001b[0;34m)\u001b[0m\u001b[0;34m:\u001b[0m\u001b[0;34m\u001b[0m\u001b[0;34m\u001b[0m\u001b[0m\n\u001b[1;32m     96\u001b[0m   \u001b[0;34m\"\"\"Mount your Google Drive at the specified mountpoint path.\"\"\"\u001b[0m\u001b[0;34m\u001b[0m\u001b[0;34m\u001b[0m\u001b[0m\n\u001b[0;32m---> 97\u001b[0;31m   return _mount(\n\u001b[0m\u001b[1;32m     98\u001b[0m       \u001b[0mmountpoint\u001b[0m\u001b[0;34m,\u001b[0m\u001b[0;34m\u001b[0m\u001b[0;34m\u001b[0m\u001b[0m\n\u001b[1;32m     99\u001b[0m       \u001b[0mforce_remount\u001b[0m\u001b[0;34m=\u001b[0m\u001b[0mforce_remount\u001b[0m\u001b[0;34m,\u001b[0m\u001b[0;34m\u001b[0m\u001b[0;34m\u001b[0m\u001b[0m\n",
            "\u001b[0;32m/usr/local/lib/python3.12/dist-packages/google/colab/drive.py\u001b[0m in \u001b[0;36m_mount\u001b[0;34m(mountpoint, force_remount, timeout_ms, ephemeral, readonly)\u001b[0m\n\u001b[1;32m    132\u001b[0m   )\n\u001b[1;32m    133\u001b[0m   \u001b[0;32mif\u001b[0m \u001b[0mephemeral\u001b[0m\u001b[0;34m:\u001b[0m\u001b[0;34m\u001b[0m\u001b[0;34m\u001b[0m\u001b[0m\n\u001b[0;32m--> 134\u001b[0;31m     _message.blocking_request(\n\u001b[0m\u001b[1;32m    135\u001b[0m         \u001b[0;34m'request_auth'\u001b[0m\u001b[0;34m,\u001b[0m\u001b[0;34m\u001b[0m\u001b[0;34m\u001b[0m\u001b[0m\n\u001b[1;32m    136\u001b[0m         \u001b[0mrequest\u001b[0m\u001b[0;34m=\u001b[0m\u001b[0;34m{\u001b[0m\u001b[0;34m'authType'\u001b[0m\u001b[0;34m:\u001b[0m \u001b[0;34m'dfs_ephemeral'\u001b[0m\u001b[0;34m}\u001b[0m\u001b[0;34m,\u001b[0m\u001b[0;34m\u001b[0m\u001b[0;34m\u001b[0m\u001b[0m\n",
            "\u001b[0;32m/usr/local/lib/python3.12/dist-packages/google/colab/_message.py\u001b[0m in \u001b[0;36mblocking_request\u001b[0;34m(request_type, request, timeout_sec, parent)\u001b[0m\n\u001b[1;32m    174\u001b[0m       \u001b[0mrequest_type\u001b[0m\u001b[0;34m,\u001b[0m \u001b[0mrequest\u001b[0m\u001b[0;34m,\u001b[0m \u001b[0mparent\u001b[0m\u001b[0;34m=\u001b[0m\u001b[0mparent\u001b[0m\u001b[0;34m,\u001b[0m \u001b[0mexpect_reply\u001b[0m\u001b[0;34m=\u001b[0m\u001b[0;32mTrue\u001b[0m\u001b[0;34m\u001b[0m\u001b[0;34m\u001b[0m\u001b[0m\n\u001b[1;32m    175\u001b[0m   )\n\u001b[0;32m--> 176\u001b[0;31m   \u001b[0;32mreturn\u001b[0m \u001b[0mread_reply_from_input\u001b[0m\u001b[0;34m(\u001b[0m\u001b[0mrequest_id\u001b[0m\u001b[0;34m,\u001b[0m \u001b[0mtimeout_sec\u001b[0m\u001b[0;34m)\u001b[0m\u001b[0;34m\u001b[0m\u001b[0;34m\u001b[0m\u001b[0m\n\u001b[0m",
            "\u001b[0;32m/usr/local/lib/python3.12/dist-packages/google/colab/_message.py\u001b[0m in \u001b[0;36mread_reply_from_input\u001b[0;34m(message_id, timeout_sec)\u001b[0m\n\u001b[1;32m    101\u001b[0m     ):\n\u001b[1;32m    102\u001b[0m       \u001b[0;32mif\u001b[0m \u001b[0;34m'error'\u001b[0m \u001b[0;32min\u001b[0m \u001b[0mreply\u001b[0m\u001b[0;34m:\u001b[0m\u001b[0;34m\u001b[0m\u001b[0;34m\u001b[0m\u001b[0m\n\u001b[0;32m--> 103\u001b[0;31m         \u001b[0;32mraise\u001b[0m \u001b[0mMessageError\u001b[0m\u001b[0;34m(\u001b[0m\u001b[0mreply\u001b[0m\u001b[0;34m[\u001b[0m\u001b[0;34m'error'\u001b[0m\u001b[0;34m]\u001b[0m\u001b[0;34m)\u001b[0m\u001b[0;34m\u001b[0m\u001b[0;34m\u001b[0m\u001b[0m\n\u001b[0m\u001b[1;32m    104\u001b[0m       \u001b[0;32mreturn\u001b[0m \u001b[0mreply\u001b[0m\u001b[0;34m.\u001b[0m\u001b[0mget\u001b[0m\u001b[0;34m(\u001b[0m\u001b[0;34m'data'\u001b[0m\u001b[0;34m,\u001b[0m \u001b[0;32mNone\u001b[0m\u001b[0;34m)\u001b[0m\u001b[0;34m\u001b[0m\u001b[0;34m\u001b[0m\u001b[0m\n\u001b[1;32m    105\u001b[0m \u001b[0;34m\u001b[0m\u001b[0m\n",
            "\u001b[0;31mMessageError\u001b[0m: Error: credential propagation was unsuccessful"
          ]
        }
      ]
    }
  ]
}